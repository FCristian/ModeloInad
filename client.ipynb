{
 "cells": [
  {
   "cell_type": "code",
   "execution_count": 76,
   "metadata": {
    "id": "5635a2ee27bf5d2b",
    "ExecuteTime": {
     "end_time": "2023-09-29T06:15:37.254010Z",
     "start_time": "2023-09-29T06:15:37.249790400Z"
    }
   },
   "outputs": [],
   "source": [
    "# imports\n",
    "import requests\n",
    "import pandas as pd\n",
    "import json"
   ],
   "id": "5635a2ee27bf5d2b"
  },
  {
   "cell_type": "code",
   "execution_count": 77,
   "metadata": {
    "id": "DP6I38-R6Zpp",
    "ExecuteTime": {
     "end_time": "2023-09-29T06:15:58.841001Z",
     "start_time": "2023-09-29T06:15:58.824701900Z"
    }
   },
   "outputs": [],
   "source": [
    "#@title Preencha aqui com as informações do cliente requisitante\n",
    "\n",
    "#@markdown Informe todos os campos a seguir:\n",
    "Name = \"Teste\" #@param {type:\"string\"}\n",
    "Gender = \"Male\" #@param [\"Selecione\", \"Male\", \"Joint\", \"Sex Not Available\", \"Female\"]\n",
    "Region = \"south\" #@param [\"Selecione\", \"North\", \"south\", \"central\", \"North-East\"]\n",
    "income = 10000.0 #@param {type:\"number\"}\n",
    "property_value = 5000.0 #@param {type:\"number\"}\n",
    "LTV = 100.0 #@param {type:\"number\"}\n",
    "business_or_commercial = \"nob/c\" #@param [\"Selecione\", \"nob/c\", \"b/c\"]\n",
    "lump_sum_payment = \"lpsm\" #@param [\"Selecione\", \"not_lpsm\", \"lpsm\"]\n",
    "loan_amount = 50000 #@param {type:\"integer\"}\n",
    "loan_limit =  \"cf\" #@param [\"Selecione\", \"cf\", \"ncf\"]\n",
    "loan_type = \"type2\" #@param [\"Selecione\", \"type1\", \"type2\", \"type3\"]\n",
    "approv_in_adv = \"nopre\" #@param [\"Selecione\", \"nopre\", \"pre\"]\n",
    "Credit_Worthiness = \"l2\" #@param [\"Selecione\", \"l1\", \"l2\"]\n",
    "credit_type = \"CRIF\" #@param [\"Selecione\", \"CIB\", \"CRIF\", \"EXP\", \"EQUI\"]\n",
    "co_applicant_credit_type = \"CRIF\" #@param [\"Selecione\", \"CIB\", \"CRIF\", \"EXP\", \"EQUI\"]\n",
    "Neg_ammortization = \"not_neg\" #@param [\"Selecione\", \"not_neg\", \"neg_amm\"]\n",
    "submission_of_application = \"to_inst\" #@param [\"Selecione\", \"to_inst\", \"not_inst\"]"
   ],
   "id": "DP6I38-R6Zpp"
  },
  {
   "cell_type": "code",
   "execution_count": 78,
   "metadata": {
    "id": "-1ogFO6JtADt",
    "ExecuteTime": {
     "end_time": "2023-09-29T06:16:00.875513900Z",
     "start_time": "2023-09-29T06:16:00.855129600Z"
    }
   },
   "outputs": [],
   "source": [
    "colunas = ['loan_amount', 'property_value', 'income', 'LTV', 'loan_limit', 'Credit_Worthiness',\n",
    "            'Neg_ammortization', 'Gender', 'loan_type', 'credit_type', 'Region', 'approv_in_adv',\n",
    "             'business_or_commercial', 'lump_sum_payment', 'co_applicant_credit_type','submission_of_application']\n",
    "\n",
    "dados = [[loan_amount, property_value, income, LTV, loan_limit, Credit_Worthiness,\n",
    "            Neg_ammortization, Gender, loan_type, credit_type, Region, approv_in_adv,\n",
    "             business_or_commercial, lump_sum_payment, co_applicant_credit_type,submission_of_application]]\n",
    "\n",
    "clientes = pd.DataFrame(data = dados, columns = colunas)"
   ],
   "id": "-1ogFO6JtADt"
  },
  {
   "cell_type": "code",
   "source": [
    "clientes"
   ],
   "metadata": {
    "colab": {
     "base_uri": "https://localhost:8080/",
     "height": 112
    },
    "id": "qfKeEPb49AEX",
    "outputId": "37650101-dd33-4599-a959-90e27b7b56cb",
    "ExecuteTime": {
     "end_time": "2023-09-29T06:16:01.181232800Z",
     "start_time": "2023-09-29T06:16:01.164669200Z"
    }
   },
   "id": "qfKeEPb49AEX",
   "execution_count": 79,
   "outputs": [
    {
     "data": {
      "text/plain": "   loan_amount  property_value   income    LTV loan_limit Credit_Worthiness  \\\n0        50000          5000.0  10000.0  100.0         cf                l2   \n\n  Neg_ammortization Gender loan_type credit_type Region approv_in_adv  \\\n0           not_neg   Male     type2        CRIF  south         nopre   \n\n  business_or_commercial lump_sum_payment co_applicant_credit_type  \\\n0                  nob/c             lpsm                     CRIF   \n\n  submission_of_application  \n0                   to_inst  ",
      "text/html": "<div>\n<style scoped>\n    .dataframe tbody tr th:only-of-type {\n        vertical-align: middle;\n    }\n\n    .dataframe tbody tr th {\n        vertical-align: top;\n    }\n\n    .dataframe thead th {\n        text-align: right;\n    }\n</style>\n<table border=\"1\" class=\"dataframe\">\n  <thead>\n    <tr style=\"text-align: right;\">\n      <th></th>\n      <th>loan_amount</th>\n      <th>property_value</th>\n      <th>income</th>\n      <th>LTV</th>\n      <th>loan_limit</th>\n      <th>Credit_Worthiness</th>\n      <th>Neg_ammortization</th>\n      <th>Gender</th>\n      <th>loan_type</th>\n      <th>credit_type</th>\n      <th>Region</th>\n      <th>approv_in_adv</th>\n      <th>business_or_commercial</th>\n      <th>lump_sum_payment</th>\n      <th>co_applicant_credit_type</th>\n      <th>submission_of_application</th>\n    </tr>\n  </thead>\n  <tbody>\n    <tr>\n      <th>0</th>\n      <td>50000</td>\n      <td>5000.0</td>\n      <td>10000.0</td>\n      <td>100.0</td>\n      <td>cf</td>\n      <td>l2</td>\n      <td>not_neg</td>\n      <td>Male</td>\n      <td>type2</td>\n      <td>CRIF</td>\n      <td>south</td>\n      <td>nopre</td>\n      <td>nob/c</td>\n      <td>lpsm</td>\n      <td>CRIF</td>\n      <td>to_inst</td>\n    </tr>\n  </tbody>\n</table>\n</div>"
     },
     "execution_count": 79,
     "metadata": {},
     "output_type": "execute_result"
    }
   ]
  },
  {
   "cell_type": "markdown",
   "metadata": {
    "collapsed": false,
    "id": "7c746f9fafa2bcb0"
   },
   "source": [
    "# Predição\n",
    "\n",
    "Realizando apredição com base nos dados inseridos"
   ],
   "id": "7c746f9fafa2bcb0"
  },
  {
   "cell_type": "code",
   "execution_count": 80,
   "metadata": {
    "id": "4b99ea4e38775337",
    "ExecuteTime": {
     "end_time": "2023-09-29T06:16:07.316098100Z",
     "start_time": "2023-09-29T06:16:07.298557200Z"
    }
   },
   "outputs": [],
   "source": [
    "my_server_ip = \"127.0.0.1\"\n",
    "my_server_port = \"8080\"\n",
    "\n",
    "url = \"http://{}:{}/predict\".format(my_server_ip, my_server_port)\n",
    "headers = {'Content-Type': 'application/json'}\n",
    "conteudo = clientes.to_json()"
   ],
   "id": "4b99ea4e38775337"
  },
  {
   "cell_type": "code",
   "execution_count": 81,
   "metadata": {
    "colab": {
     "base_uri": "https://localhost:8080/",
     "height": 652
    },
    "id": "e4a4063e533a837d",
    "outputId": "687c0e55-a301-4614-d613-9072044c05d2",
    "ExecuteTime": {
     "end_time": "2023-09-29T06:16:11.277974300Z",
     "start_time": "2023-09-29T06:16:11.242907Z"
    }
   },
   "outputs": [
    {
     "data": {
      "text/plain": "{'prediction': '0'}"
     },
     "execution_count": 81,
     "metadata": {},
     "output_type": "execute_result"
    }
   ],
   "source": [
    "response01 = requests.request(\"POST\", url, headers=headers, data=conteudo)\n",
    "respostas01 = json.loads(response01.text.encode('utf8').decode())\n",
    "respostas01"
   ],
   "id": "e4a4063e533a837d"
  },
  {
   "cell_type": "code",
   "execution_count": 82,
   "outputs": [
    {
     "data": {
      "text/plain": "0    ouro\nName: Cluster, dtype: object"
     },
     "execution_count": 82,
     "metadata": {},
     "output_type": "execute_result"
    }
   ],
   "source": [
    "cluster = pd.Series(respostas01['prediction'], name=\"Cluster\")\n",
    "cluster = cluster.replace({\"0\": \"ouro\", \"1\": \"prata\"})\n",
    "cluster"
   ],
   "metadata": {
    "collapsed": false,
    "ExecuteTime": {
     "end_time": "2023-09-29T06:16:27.325447700Z",
     "start_time": "2023-09-29T06:16:27.309188Z"
    }
   },
   "id": "d3d56d71824fbe3e"
  },
  {
   "cell_type": "code",
   "execution_count": 83,
   "outputs": [
    {
     "data": {
      "text/plain": "{'prediction': '0'}"
     },
     "execution_count": 83,
     "metadata": {},
     "output_type": "execute_result"
    }
   ],
   "source": [
    "response02 = requests.request(\"POST\", url , headers=headers, data=conteudo)\n",
    "respostas02 = json.loads(response02.text.encode('utf8').decode())\n",
    "respostas02"
   ],
   "metadata": {
    "collapsed": false,
    "ExecuteTime": {
     "end_time": "2023-09-29T06:16:34.826647Z",
     "start_time": "2023-09-29T06:16:34.811707100Z"
    }
   },
   "id": "bbeaa7d85d86417f"
  },
  {
   "cell_type": "code",
   "execution_count": 84,
   "outputs": [
    {
     "data": {
      "text/plain": "0    paid\nName: Inadimplência, dtype: object"
     },
     "execution_count": 84,
     "metadata": {},
     "output_type": "execute_result"
    }
   ],
   "source": [
    "inad = pd.Series(respostas02['prediction'], name=\"Inadimplência\")\n",
    "inad = inad.replace({\"0\": \"paid\", \"1\": \"defaulted\"})\n",
    "inad"
   ],
   "metadata": {
    "collapsed": false,
    "ExecuteTime": {
     "end_time": "2023-09-29T06:16:41.131844100Z",
     "start_time": "2023-09-29T06:16:41.119018800Z"
    }
   },
   "id": "d17b8b15f81ec7bf"
  },
  {
   "cell_type": "code",
   "execution_count": 85,
   "outputs": [],
   "source": [
    "clientes['Name'] = Name"
   ],
   "metadata": {
    "collapsed": false,
    "ExecuteTime": {
     "end_time": "2023-09-29T06:16:45.817848300Z",
     "start_time": "2023-09-29T06:16:45.805156800Z"
    }
   },
   "id": "21483ab8ea5efba3"
  },
  {
   "cell_type": "code",
   "execution_count": 86,
   "metadata": {
    "id": "e919b1ba0b80b891",
    "ExecuteTime": {
     "end_time": "2023-09-29T06:16:46.159587400Z",
     "start_time": "2023-09-29T06:16:46.138214600Z"
    }
   },
   "outputs": [
    {
     "data": {
      "text/plain": "    Name Cluster Inadimplência\n0  Teste    ouro          paid",
      "text/html": "<div>\n<style scoped>\n    .dataframe tbody tr th:only-of-type {\n        vertical-align: middle;\n    }\n\n    .dataframe tbody tr th {\n        vertical-align: top;\n    }\n\n    .dataframe thead th {\n        text-align: right;\n    }\n</style>\n<table border=\"1\" class=\"dataframe\">\n  <thead>\n    <tr style=\"text-align: right;\">\n      <th></th>\n      <th>Name</th>\n      <th>Cluster</th>\n      <th>Inadimplência</th>\n    </tr>\n  </thead>\n  <tbody>\n    <tr>\n      <th>0</th>\n      <td>Teste</td>\n      <td>ouro</td>\n      <td>paid</td>\n    </tr>\n  </tbody>\n</table>\n</div>"
     },
     "execution_count": 86,
     "metadata": {},
     "output_type": "execute_result"
    }
   ],
   "source": [
    "pd.DataFrame(clientes.loc[:,\"Name\"])\\\n",
    "    .merge(right= cluster, left_index=True, right_index=True)\\\n",
    "    .merge(inad, left_index=True, right_index=True)"
   ],
   "id": "e919b1ba0b80b891"
  },
  {
   "cell_type": "code",
   "execution_count": null,
   "metadata": {
    "id": "6JBc2DQC02f-"
   },
   "outputs": [],
   "source": [],
   "id": "6JBc2DQC02f-"
  }
 ],
 "metadata": {
  "colab": {
   "provenance": []
  },
  "kernelspec": {
   "display_name": "Python 3",
   "language": "python",
   "name": "python3"
  },
  "language_info": {
   "codemirror_mode": {
    "name": "ipython",
    "version": 2
   },
   "file_extension": ".py",
   "mimetype": "text/x-python",
   "name": "python",
   "nbconvert_exporter": "python",
   "pygments_lexer": "ipython2",
   "version": "2.7.6"
  }
 },
 "nbformat": 4,
 "nbformat_minor": 5
}
